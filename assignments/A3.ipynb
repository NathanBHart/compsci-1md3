{
 "cells": [
  {
   "attachments": {},
   "cell_type": "markdown",
   "metadata": {
    "deletable": false,
    "editable": false,
    "nbgrader": {
     "cell_type": "markdown",
     "checksum": "3c5265f04da4053fe72a8b084b0fd33c",
     "grade": false,
     "grade_id": "cell-352f761a03c9b272",
     "locked": true,
     "schema_version": 3,
     "solution": false,
     "task": false
    }
   },
   "source": [
    "# Assignment 3 - Let's do the Loop Again!\n",
    "\n",
    "The purpose of this assignment is to:\n",
    "\n",
    "* Become familiar with for loops\n",
    "* Understand functions that can be applied to lists\n",
    "* Practice working with dictionaries\n",
    "\n",
    "You are supposed to download this notebook, embed your answers to the questions in the cells below, and submit it through JupyterHub.  "
   ]
  },
  {
   "cell_type": "code",
   "execution_count": 1,
   "metadata": {
    "deletable": false,
    "editable": false,
    "nbgrader": {
     "cell_type": "code",
     "checksum": "fa2fe6e6fcbc2cd19e1eb5b8912d0895",
     "grade": false,
     "grade_id": "cell-fa18039c97e85ddd",
     "locked": true,
     "schema_version": 3,
     "solution": false,
     "task": false
    }
   },
   "outputs": [],
   "source": [
    "# Run this cell before testing ANYTHING else!\n",
    "def tester(a, b):\n",
    "    return \"You Passed!\" if a == b else f\"You Failed: {a} != {b}\""
   ]
  },
  {
   "cell_type": "markdown",
   "metadata": {
    "deletable": false,
    "editable": false,
    "nbgrader": {
     "cell_type": "markdown",
     "checksum": "fd5222101395fa13086aa76909a1c633",
     "grade": false,
     "grade_id": "cell-f7f8b20a2026d1ac",
     "locked": true,
     "schema_version": 3,
     "solution": false,
     "task": false
    }
   },
   "source": [
    "## Practice Question: Word Frequency\n",
    "\n",
    "Given a sentence, `s`, produce a dictionary that tells you the number of times each word occurs in a string. You may assume each word is lowercase, there are no contractions, and each word is separated by a space.  Please note, your function must return the created dictionary."
   ]
  },
  {
   "cell_type": "code",
   "execution_count": 2,
   "metadata": {
    "deletable": false,
    "nbgrader": {
     "cell_type": "code",
     "checksum": "ca110741e27b458976c1100f2d4aebca",
     "grade": false,
     "grade_id": "cell-44f40dd969c40ddf",
     "locked": false,
     "schema_version": 3,
     "solution": true,
     "task": false
    }
   },
   "outputs": [],
   "source": [
    "def wordFrequency(s):\n",
    "    \n",
    "    words = s.split()\n",
    "    dictionary = {word: words.count(word) for word in words}\n",
    "    \n",
    "    return dictionary"
   ]
  },
  {
   "cell_type": "code",
   "execution_count": 3,
   "metadata": {
    "deletable": false,
    "editable": false,
    "nbgrader": {
     "cell_type": "code",
     "checksum": "317c1e3a0176353f6a3f962e6f162d0b",
     "grade": true,
     "grade_id": "cell-f1da65aa15c4dee8",
     "locked": true,
     "points": 0,
     "schema_version": 3,
     "solution": false,
     "task": false
    }
   },
   "outputs": [
    {
     "data": {
      "text/plain": [
       "True"
      ]
     },
     "execution_count": 3,
     "metadata": {},
     "output_type": "execute_result"
    }
   ],
   "source": [
    "wordFrequency(\"was it a car or cat i saw or was it a kangaroo\") == {'a': 2,\n",
    " 'car': 1,\n",
    " 'cat': 1,\n",
    " 'i': 1,\n",
    " 'it': 2,\n",
    " 'kangaroo': 1,\n",
    " 'or': 2,\n",
    " 'saw': 1,\n",
    " 'was': 2}"
   ]
  },
  {
   "cell_type": "code",
   "execution_count": 4,
   "metadata": {
    "deletable": false,
    "editable": false,
    "nbgrader": {
     "cell_type": "code",
     "checksum": "455a067c3078f28d400ddc33281530a0",
     "grade": true,
     "grade_id": "cell-c145933fcd4ec260",
     "locked": true,
     "points": 0,
     "schema_version": 3,
     "solution": false,
     "task": false
    }
   },
   "outputs": [
    {
     "data": {
      "text/plain": [
       "True"
      ]
     },
     "execution_count": 4,
     "metadata": {},
     "output_type": "execute_result"
    }
   ],
   "source": [
    "wordFrequency(\"this sentence has too too many repeated repeated words\") == {'has': 1,\n",
    " 'many': 1,\n",
    " 'repeated': 2,\n",
    " 'sentence': 1,\n",
    " 'this': 1,\n",
    " 'too': 2,\n",
    " 'words': 1}"
   ]
  },
  {
   "attachments": {},
   "cell_type": "markdown",
   "metadata": {
    "deletable": false,
    "editable": false,
    "nbgrader": {
     "cell_type": "markdown",
     "checksum": "9d3b14e17b92f0c0efe7a38d59ffe392",
     "grade": false,
     "grade_id": "cell-58841698bf94d6ac",
     "locked": true,
     "schema_version": 3,
     "solution": false,
     "task": false
    }
   },
   "source": [
    "## Question 1a: Span of a List\n",
    "\n",
    "The span, or range of a list of numbers is the difference between the largest and smallest elements of the list. \n",
    "\n",
    "Write a Python function **span(l)** that takes a non-empty list **l** of numbers and returns the span."
   ]
  },
  {
   "cell_type": "code",
   "execution_count": 5,
   "metadata": {
    "deletable": false,
    "nbgrader": {
     "cell_type": "code",
     "checksum": "47740b995f48b59ef02f3a936a417e5a",
     "grade": false,
     "grade_id": "cell-7705867d2bca8d4f",
     "locked": false,
     "schema_version": 3,
     "solution": true
    }
   },
   "outputs": [],
   "source": [
    "def span(l):\n",
    "    return max(l) - min(l)\n"
   ]
  },
  {
   "cell_type": "code",
   "execution_count": 6,
   "metadata": {
    "deletable": false,
    "editable": false,
    "nbgrader": {
     "cell_type": "code",
     "checksum": "2b67dcc4ee90b99f73093ec1b89320e3",
     "grade": false,
     "grade_id": "cell-5e0461a5bd5fb5df",
     "locked": true,
     "schema_version": 3,
     "solution": false,
     "task": false
    },
    "scrolled": true
   },
   "outputs": [
    {
     "name": "stdout",
     "output_type": "stream",
     "text": [
      "Are my sample test cases correct?\n",
      "Question #1a - Test #1: You Passed!\n",
      "Question #1a - Test #2: You Passed!\n",
      "Question #1a - Test #3: You Passed!\n"
     ]
    }
   ],
   "source": [
    "print(\"Are my sample test cases correct?\")\n",
    "print(\"Question #1a - Test #1:\", tester(span([5,4,3,2,1]), 4))\n",
    "print(\"Question #1a - Test #2:\", tester(span([1,2,3,4,5]), 4))\n",
    "print(\"Question #1a - Test #3:\", tester(span([3,2,1,2,3,4,5,4,3,2,1]), 4))"
   ]
  },
  {
   "attachments": {},
   "cell_type": "markdown",
   "metadata": {
    "deletable": false,
    "editable": false,
    "nbgrader": {
     "cell_type": "markdown",
     "checksum": "af55cb89bf75b74d5ee81d14da198d5c",
     "grade": false,
     "grade_id": "cell-094f2b12f9952a3e",
     "locked": true,
     "schema_version": 3,
     "solution": false,
     "task": false
    }
   },
   "source": [
    "## Question 1b: Bound of a List\n",
    "\n",
    "The bound of a list of numbers is a pair with the smallest and largest number. \n",
    "\n",
    "Write a Python function **bound(l)** that takes non-empty list **l** and returns its bound as a tuple with signature order `(min,max)`."
   ]
  },
  {
   "cell_type": "code",
   "execution_count": 7,
   "metadata": {
    "deletable": false,
    "nbgrader": {
     "cell_type": "code",
     "checksum": "242e4c781717673de4a93d6ac662909c",
     "grade": false,
     "grade_id": "cell-ba4ea05b0acec81a",
     "locked": false,
     "schema_version": 3,
     "solution": true
    }
   },
   "outputs": [],
   "source": [
    "def bound(l):\n",
    "\n",
    "    return (min(l), max(l))\n"
   ]
  },
  {
   "cell_type": "code",
   "execution_count": 8,
   "metadata": {
    "deletable": false,
    "editable": false,
    "nbgrader": {
     "cell_type": "code",
     "checksum": "d9f6b3fad582512680eb06dfcf116259",
     "grade": false,
     "grade_id": "cell-823856f7f0c3dac2",
     "locked": true,
     "schema_version": 3,
     "solution": false,
     "task": false
    }
   },
   "outputs": [
    {
     "name": "stdout",
     "output_type": "stream",
     "text": [
      "Are my sample test cases correct?\n",
      "Questtion #1b Test #1: You Passed!\n",
      "Questtion #1b Test #2: You Passed!\n",
      "Questtion #1b Test #3: You Passed!\n"
     ]
    }
   ],
   "source": [
    "print(\"Are my sample test cases correct?\")\n",
    "print(\"Questtion #1b Test #1:\", tester(bound([1,6,3,7,9,1]), (1,9)))\n",
    "print(\"Questtion #1b Test #2:\", tester(bound([1,2,3,4,5]), (1,5)))\n",
    "print(\"Questtion #1b Test #3:\", tester(bound([3,2,1,2,3,4,5,4,3,2,1]), (1,5)))"
   ]
  },
  {
   "attachments": {},
   "cell_type": "markdown",
   "metadata": {
    "deletable": false,
    "editable": false,
    "nbgrader": {
     "cell_type": "markdown",
     "checksum": "13c6e34161f54c80fee6b33796ab73bb",
     "grade": false,
     "grade_id": "cell-d80db8eac763d67f",
     "locked": true,
     "schema_version": 3,
     "solution": false,
     "task": false
    }
   },
   "source": [
    "## Question 1c: Arithmetic Mean of a List\n",
    "\n",
    "The arithmetic mean of a series $x$ of $n$ numbers is defined as: $$ \\frac{1}{n} \\sum{x} $$.\n",
    "\n",
    "Write a function **arithmetic_mean(l)** that takes a non-empty list **l** and returns its arithmetic mean as a floating-point number."
   ]
  },
  {
   "cell_type": "code",
   "execution_count": 9,
   "metadata": {
    "deletable": false,
    "nbgrader": {
     "cell_type": "code",
     "checksum": "caa6a01f45412a32983a1588d42b7f48",
     "grade": false,
     "grade_id": "cell-4f1662bda2bb64cb",
     "locked": false,
     "schema_version": 3,
     "solution": true
    }
   },
   "outputs": [],
   "source": [
    "def arithmetic_mean(l):\n",
    "    return sum(l)/len(l)\n"
   ]
  },
  {
   "cell_type": "code",
   "execution_count": 10,
   "metadata": {
    "deletable": false,
    "editable": false,
    "nbgrader": {
     "cell_type": "code",
     "checksum": "b83c7ed29ca5bb6e7c425914e478ac45",
     "grade": false,
     "grade_id": "cell-e4763365e640f031",
     "locked": true,
     "schema_version": 3,
     "solution": false,
     "task": false
    }
   },
   "outputs": [
    {
     "name": "stdout",
     "output_type": "stream",
     "text": [
      "Are my sample test cases correct?\n",
      "Question #1c - Test Case #1: You Passed!\n",
      "Question #1c - Test Case #2: You Passed!\n",
      "Question #1c - Test Case #3: You Passed!\n"
     ]
    }
   ],
   "source": [
    "print(\"Are my sample test cases correct?\")\n",
    "print(\"Question #1c - Test Case #1:\", tester(arithmetic_mean([1,6,3,7,9,1]), 4.5))\n",
    "print(\"Question #1c - Test Case #2:\", tester(arithmetic_mean([1,2,3,4,5]), 3.0))\n",
    "print(\"Question #1c - Test Case #3:\", tester(arithmetic_mean([3,2,1,2,3,4,5,4,3,2]), 2.9))"
   ]
  },
  {
   "attachments": {},
   "cell_type": "markdown",
   "metadata": {
    "deletable": false,
    "editable": false,
    "nbgrader": {
     "cell_type": "markdown",
     "checksum": "fd9af6d5917efb9742b8b3fb39324a72",
     "grade": false,
     "grade_id": "cell-f94131891f29bfc9",
     "locked": true,
     "schema_version": 3,
     "solution": false,
     "task": false
    }
   },
   "source": [
    "##  Question 2 : Dictionaries using Dictionaries\n",
    "\n",
    "Create a python function `transliterate`, which accepts no arguments and returns a nested dictionary meeting the following requirements. The purpose of this dictionary is to specify a language and a word or phrase, and get as a result the translation of that word or phrase in the specified language.  This will require double indexing, as seen in the test cases below.  \n",
    "\n",
    "The first key will be the language, the second the word to be translated.  Your dictionary must minimally contain entries for the languages: German, Icelandic, Japanese, and Polish.  The words to be translated will minimally be: Hello, Goodbye, and Acute Digestive Distress.  All words using Romanized characters must be capitalized.\n",
    "\n",
    "Translations are to be taken from the first/default result from entering the words or phrases into Google Translate.  The dictionary entries need to be character-correct, so accents and non-english characters must be present and accounted for.  \n",
    "\n",
    "HINT: For clarity and aesthetics, it is possible to put different likes of a long dictionary or list delcaration on different lines in the code.  One might declare a 2d list as shown below."
   ]
  },
  {
   "cell_type": "code",
   "execution_count": 11,
   "metadata": {
    "deletable": false,
    "nbgrader": {
     "cell_type": "code",
     "checksum": "8e0f7ccb0469c1ef64f5b73cfd0cc34f",
     "grade": false,
     "grade_id": "cell-2988440bb20bb427",
     "locked": false,
     "schema_version": 3,
     "solution": true,
     "task": false
    }
   },
   "outputs": [],
   "source": [
    "def transliterate () :\n",
    "    return {\n",
    "        \n",
    "        \"German\" : {\n",
    "            \"Hello\"                    : \"Hallo\",\n",
    "            \"Goodbye\"                  : \"Auf Wiedersehen\",\n",
    "            \"Acute Digestive Distress\" : \"Akute Verdauungsbeschwerden\",\n",
    "        },\n",
    "        \n",
    "        \"Icelandic\" : {\n",
    "            \"Hello\"                    : \"Halló\",\n",
    "            \"Goodbye\"                  : \"Bless\",\n",
    "            \"Acute Digestive Distress\" : \"Bráð Meltingartruflanir\",\n",
    "            \n",
    "        },\n",
    "        \n",
    "        \"Japanese\" : {\n",
    "            \"Hello\"                    : \"こんにちは\",\n",
    "            \"Goodbye\"                  : \"さようなら\",\n",
    "            \"Acute Digestive Distress\" : \"急性消化不良\",\n",
    "            \n",
    "        },\n",
    "        \n",
    "        \"Polish\" : {\n",
    "            \"Hello\"                    : \"Witam\",\n",
    "            \"Goodbye\"                  : \"Do Widzenia\",\n",
    "            \"Acute Digestive Distress\" : \"Ostre Zaburzenia Trawienne\",\n",
    "            \n",
    "        },\n",
    "        \n",
    "    }\n"
   ]
  },
  {
   "cell_type": "code",
   "execution_count": 12,
   "metadata": {
    "deletable": false,
    "editable": false,
    "nbgrader": {
     "cell_type": "code",
     "checksum": "4fc5faee357d4644b7bbde98e2bcce53",
     "grade": false,
     "grade_id": "cell-77037ece8f0c5f6b",
     "locked": true,
     "schema_version": 3,
     "solution": false,
     "task": false
    }
   },
   "outputs": [
    {
     "name": "stdout",
     "output_type": "stream",
     "text": [
      "Are my sample test cases correct?\n",
      "Question #2 - Test Case #1: You Passed!\n",
      "Question #2 - Test Case #2: You Passed!\n",
      "Question #2 - Test Case #3: You Passed!\n"
     ]
    }
   ],
   "source": [
    "print(\"Are my sample test cases correct?\")\n",
    "print(\"Question #2 - Test Case #1:\", tester(transliterate()[\"German\"][\"Goodbye\"], \"Auf Wiedersehen\"))\n",
    "print(\"Question #2 - Test Case #2:\", tester(transliterate()[\"Icelandic\"][\"Acute Digestive Distress\"], \"Bráð Meltingartruflanir\"))\n",
    "print(\"Question #2 - Test Case #3:\", tester(transliterate()[\"Japanese\"][\"Hello\"], \"こんにちは\"))"
   ]
  },
  {
   "attachments": {},
   "cell_type": "markdown",
   "metadata": {
    "deletable": false,
    "editable": false,
    "nbgrader": {
     "cell_type": "markdown",
     "checksum": "105551ffa66cff50a6391ddb7a42de4a",
     "grade": false,
     "grade_id": "cell-3ae944e9312f6650",
     "locked": true,
     "schema_version": 3,
     "solution": false,
     "task": false
    }
   },
   "source": [
    "## Question 3: Subset Sum\n",
    "\n",
    "Write a function subsetsum(l, s) that determines if there are any two numbers in the list l that add to s.\n",
    "\n",
    "e.g., for ([1, 2, 3], 5), it would be True, since 2 + 3 = 5.\n",
    "<br>([1, 2, 3], 6) would be false since there are no two numbers that add to six in the list (you cannot use the same value of three twice). On the contrary, if the input were ([1, 2, 3, 3], 6), this would be true because there are two 3s in the list.\n",
    "\n",
    "You may assume `len(l) > 1`."
   ]
  },
  {
   "cell_type": "code",
   "execution_count": 13,
   "metadata": {
    "deletable": false,
    "nbgrader": {
     "cell_type": "code",
     "checksum": "93030fbe09869c6e3ad9c04d840f9ecd",
     "grade": false,
     "grade_id": "cell-56fe833be8ec0c52",
     "locked": false,
     "schema_version": 3,
     "solution": true
    }
   },
   "outputs": [],
   "source": [
    "def subsetsum(l, s):\n",
    "    \n",
    "    compliments = [s - x for x in l if (s-x) != x]\n",
    "    \n",
    "    for each in l:\n",
    "        \n",
    "        if s - each == each and l.count(each) >= 2:\n",
    "            return True\n",
    "        \n",
    "        if each in compliments:\n",
    "            return True\n",
    "    \n",
    "    return False"
   ]
  },
  {
   "cell_type": "code",
   "execution_count": 14,
   "metadata": {
    "deletable": false,
    "editable": false,
    "nbgrader": {
     "cell_type": "code",
     "checksum": "1ae3eaa1adeffa573c819528c2b3392a",
     "grade": false,
     "grade_id": "cell-4c493e9cb36bd14e",
     "locked": true,
     "schema_version": 3,
     "solution": false,
     "task": false
    }
   },
   "outputs": [
    {
     "name": "stdout",
     "output_type": "stream",
     "text": [
      "Are my sample test cases correct?\n",
      "Question #3 - Test Case #1: You Passed!\n",
      "Question #3 - Test Case #2: You Passed!\n",
      "Question #3 - Test Case #3: You Passed!\n"
     ]
    }
   ],
   "source": [
    "print(\"Are my sample test cases correct?\")\n",
    "print(\"Question #3 - Test Case #1:\", tester(subsetsum([1, 2, 3], 5), True))\n",
    "print(\"Question #3 - Test Case #2:\", tester(not(subsetsum([1, 2, 2], 5)), True))\n",
    "print(\"Question #3 - Test Case #3:\", tester(subsetsum([1, 2, 3, 3], 6), True))"
   ]
  },
  {
   "attachments": {},
   "cell_type": "markdown",
   "metadata": {
    "deletable": false,
    "editable": false,
    "nbgrader": {
     "cell_type": "markdown",
     "checksum": "b1476ed089570428004c760d079e8132",
     "grade": false,
     "grade_id": "cell-6033581797a5a2ab",
     "locked": true,
     "schema_version": 3,
     "solution": false,
     "task": false
    }
   },
   "source": [
    "## Question 4a: Shortening Sentences\n",
    "\n",
    "To speed up texting your friends, you are thinking of leaving out all vowels. \n",
    "\n",
    "Write a Python function `shorten(s)` that takes an arbitrary string and removes all uppercase and lowercase vowels."
   ]
  },
  {
   "cell_type": "code",
   "execution_count": 15,
   "metadata": {
    "deletable": false,
    "nbgrader": {
     "cell_type": "code",
     "checksum": "63015cd3bd526da6f7c2527b5d7b312a",
     "grade": false,
     "grade_id": "cell-65c8032599b11d2d",
     "locked": false,
     "schema_version": 3,
     "solution": true
    }
   },
   "outputs": [],
   "source": [
    "# def shorten(s):\n",
    "#     return s.translate({ord(x): \"\" for x in \"AEIOUaeiou\"})\n",
    "\n",
    "def shorten(s):\n",
    "    \n",
    "    string = \"\"\n",
    "    vowels = \"AEIOUaeiou\"\n",
    "    \n",
    "    for character in s:\n",
    "        \n",
    "        if not character in vowels:\n",
    "            \n",
    "            string = string + character\n",
    "            \n",
    "    return string\n"
   ]
  },
  {
   "cell_type": "code",
   "execution_count": 16,
   "metadata": {
    "deletable": false,
    "editable": false,
    "nbgrader": {
     "cell_type": "code",
     "checksum": "158e1493de130e63965f1dac5947a875",
     "grade": false,
     "grade_id": "cell-84e996ec85b57afd",
     "locked": true,
     "schema_version": 3,
     "solution": false,
     "task": false
    }
   },
   "outputs": [
    {
     "name": "stdout",
     "output_type": "stream",
     "text": [
      "Are my sample test cases correct?\n",
      "Question 4a - Test Case #1: You Passed!\n",
      "Question 4a - Test Case #2: You Passed!\n",
      "Question 4a - Test Case #3: You Passed!\n"
     ]
    }
   ],
   "source": [
    "print(\"Are my sample test cases correct?\")\n",
    "print(\"Question 4a - Test Case #1:\", tester(shorten(\"Something always happens when I'm trying to concentrate!\"), \"Smthng lwys hppns whn 'm tryng t cncntrt!\"))\n",
    "print(\"Question 4a - Test Case #2:\", tester(shorten(\"I am the very model of a modern major general\"), ' m th vry mdl f  mdrn mjr gnrl'))\n",
    "print(\"Question 4a - Test Case #3:\", tester(shorten(\"queueing\"), \"qng\"))"
   ]
  },
  {
   "attachments": {},
   "cell_type": "markdown",
   "metadata": {
    "deletable": false,
    "editable": false,
    "nbgrader": {
     "cell_type": "markdown",
     "checksum": "87e35735ceb29d15bf5f170aaec64469",
     "grade": false,
     "grade_id": "cell-40dcde95084f6d00",
     "locked": true,
     "schema_version": 3,
     "solution": false,
     "task": false
    }
   },
   "source": [
    "## Question 4b: Shortening Sentence II\n",
    "\n",
    "You find out that the resulting words are sometime incomprehensible and like to improve your method by removing only those vowels that directly follow another letter. This means keeping the vowel at the beginning of a word--specifically, any letter following a space. \n",
    "\n",
    "Write a Python function `shortenPlus(s)` that takes an arbitrary string and removes some vowels."
   ]
  },
  {
   "cell_type": "code",
   "execution_count": 17,
   "metadata": {
    "deletable": false,
    "nbgrader": {
     "cell_type": "code",
     "checksum": "54d230b2173d37710147f84bc95e01f6",
     "grade": false,
     "grade_id": "cell-1ba4c37aaa3df114",
     "locked": false,
     "schema_version": 3,
     "solution": true
    }
   },
   "outputs": [],
   "source": [
    "def shortenPlus(s):\n",
    "    \n",
    "    if len(s) == 0:\n",
    "        \n",
    "        return \"\"\n",
    "    \n",
    "    vowels = \"AEIOUaeiou\"\n",
    "    \n",
    "    i = 1 #skip first letter always\n",
    "    \n",
    "    string = s[0]\n",
    "    \n",
    "    while i < len(s):\n",
    "        \n",
    "        if (not s[i] in vowels) or (s[i-1] == \" \"):\n",
    "            \n",
    "            string = string + s[i]\n",
    "            \n",
    "        i += 1\n",
    "            \n",
    "    return string\n"
   ]
  },
  {
   "cell_type": "code",
   "execution_count": 18,
   "metadata": {
    "deletable": false,
    "editable": false,
    "nbgrader": {
     "cell_type": "code",
     "checksum": "125d47ce50d26074f0feeec5105f82fd",
     "grade": false,
     "grade_id": "cell-f56b33f221a72772",
     "locked": true,
     "schema_version": 3,
     "solution": false,
     "task": false
    }
   },
   "outputs": [
    {
     "name": "stdout",
     "output_type": "stream",
     "text": [
      "Are my sample test cases correct?\n",
      "Question 4b - Test Case #1: You Passed!\n",
      "Question 4b - Test Case #2: You Passed!\n",
      "Question 4b - Test Case #3: You Passed!\n"
     ]
    }
   ],
   "source": [
    "print(\"Are my sample test cases correct?\")\n",
    "print(\"Question 4b - Test Case #1:\", tester(shortenPlus(\"I've information vegetable, animal and mineral\"), \"I'v infrmtn vgtbl, anml and mnrl\"))\n",
    "print(\"Question 4b - Test Case #2:\", tester(shortenPlus(\"I know the kings of England and I quote the facts historical\"), 'I knw th kngs of Englnd and I qt th fcts hstrcl'))\n",
    "print(\"Question 4b - Test Case #3:\", tester(shortenPlus(\"From Marathon to Waterloo in order categorical\"), 'Frm Mrthn t Wtrl in ordr ctgrcl'))"
   ]
  },
  {
   "attachments": {},
   "cell_type": "markdown",
   "metadata": {
    "deletable": false,
    "editable": false,
    "nbgrader": {
     "cell_type": "markdown",
     "checksum": "d7436317ddea519c92ab8a51f49874de",
     "grade": false,
     "grade_id": "cell-7aee9502220ae2c4",
     "locked": true,
     "schema_version": 3,
     "solution": false,
     "task": false
    }
   },
   "source": [
    "## Question 5a: University Majors\n",
    "\n",
    "Given a dictionary that tells you a person's major, write a Python function that, given a person's name and a major, returns `True` if that person is majoring that subject, and `False` otherwise.  Also return false if the student is not in the list of students.  "
   ]
  },
  {
   "cell_type": "code",
   "execution_count": 19,
   "metadata": {
    "deletable": false,
    "nbgrader": {
     "cell_type": "code",
     "checksum": "4d19839055b48004beace98fa102c389",
     "grade": false,
     "grade_id": "cell-bb25ab5ea4a52366",
     "locked": false,
     "schema_version": 3,
     "solution": true
    }
   },
   "outputs": [],
   "source": [
    "def check_major(name, major, majors_dict):\n",
    "    return majors_dict[name] == major if name in majors_dict else False\n"
   ]
  },
  {
   "cell_type": "code",
   "execution_count": 20,
   "metadata": {
    "deletable": false,
    "editable": false,
    "nbgrader": {
     "cell_type": "code",
     "checksum": "578398227a9c660cb8c39c97a99d6613",
     "grade": false,
     "grade_id": "cell-ddf35757c36010bd",
     "locked": true,
     "schema_version": 3,
     "solution": false,
     "task": false
    }
   },
   "outputs": [
    {
     "name": "stdout",
     "output_type": "stream",
     "text": [
      "Are my sample test cases correct?\n",
      "Question 5a - Test Case #1 You Passed!\n",
      "Question 5a - Test Case #2 You Passed!\n",
      "Question 5a - Test Case #3 You Passed!\n"
     ]
    }
   ],
   "source": [
    "majors_1 = {\n",
    "    \"Josh\": \"Engineering\", \n",
    "    \"Carol\": \"Accounting\", \n",
    "    \"Douglas\": \"Art History\", \n",
    "    \"Irene\": \"Engineering\", \n",
    "    \"Robert\": \"Engineering\", \n",
    "    \"Christine\": \"Accounting\", \n",
    "    \"Nick\": \"Underwater Basket Weaving\", \n",
    "    \"Charles\": \"Accounting\"\n",
    "}\n",
    "print(\"Are my sample test cases correct?\")\n",
    "print(\"Question 5a - Test Case #1\", tester(check_major(\"Douglas\", \"Art History\", majors_1), True))\n",
    "print(\"Question 5a - Test Case #2\", tester(not(check_major(\"Irene\", \"A Major That Doesn't Exist\", majors_1)), True))\n",
    "print(\"Question 5a - Test Case #3\", tester(check_major(\"Nick\", \"Underwater Basket Weaving\", majors_1), True))"
   ]
  },
  {
   "attachments": {},
   "cell_type": "markdown",
   "metadata": {
    "deletable": false,
    "editable": false,
    "nbgrader": {
     "cell_type": "markdown",
     "checksum": "1711e55a3e96dd18a74d8491dcf8f3cc",
     "grade": false,
     "grade_id": "cell-6d74b2d65dc46dfa",
     "locked": true,
     "schema_version": 3,
     "solution": false,
     "task": false
    }
   },
   "source": [
    "## Question 5b: University Majors II\n",
    "Given a dictonary that instead maps majors to lists of names, repeat the above question."
   ]
  },
  {
   "cell_type": "code",
   "execution_count": 21,
   "metadata": {
    "deletable": false,
    "nbgrader": {
     "cell_type": "code",
     "checksum": "92c7ff4937b7f5f70104fe3d3e17384e",
     "grade": false,
     "grade_id": "cell-8e040c7a1188ffc0",
     "locked": false,
     "schema_version": 3,
     "solution": true
    }
   },
   "outputs": [],
   "source": [
    "def check_major2(name, major, major_dictionary):\n",
    "    return name in major_dictionary[major] if major in major_dictionary else False\n",
    "\n"
   ]
  },
  {
   "cell_type": "code",
   "execution_count": 22,
   "metadata": {
    "deletable": false,
    "editable": false,
    "nbgrader": {
     "cell_type": "code",
     "checksum": "bd3d3fb4f7a4284ed1ebe267b96223ca",
     "grade": false,
     "grade_id": "cell-985664030ceaf546",
     "locked": true,
     "schema_version": 3,
     "solution": false,
     "task": false
    }
   },
   "outputs": [
    {
     "name": "stdout",
     "output_type": "stream",
     "text": [
      "Are my sample test cases correct?\n",
      "Question 5b - Test Case #1: You Passed!\n",
      "Question 5b - Test Case #2: You Passed!\n",
      "Question 5b - Test Case #3: You Passed!\n"
     ]
    }
   ],
   "source": [
    "majors_2 = {\n",
    "    \"Engineering\": [\"Josh\", \"Robert\", \"Irene\"], \n",
    "    \"Accounting\": [\"Carol\", \"Christine\", \"Charles\"], \n",
    "    \"Art History\": [\"Douglas\"], \n",
    "    \"Underwater Basket Weaving\": [\"Nick\"]\n",
    "}\n",
    "print(\"Are my sample test cases correct?\")\n",
    "print(\"Question 5b - Test Case #1:\", tester(check_major2(\"Douglas\", \"Art History\", majors_2), True))\n",
    "print(\"Question 5b - Test Case #2:\", tester(not(check_major2(\"Irene\", \"A Major That Doesn't Exist\", majors_2)), True))\n",
    "print(\"Question 5b - Test Case #3:\", tester(check_major2(\"Nick\", \"Underwater Basket Weaving\", majors_2), True))"
   ]
  },
  {
   "attachments": {},
   "cell_type": "markdown",
   "metadata": {
    "deletable": false,
    "editable": false,
    "nbgrader": {
     "cell_type": "markdown",
     "checksum": "7a3461f1b2a60775115a23b7f416c1bc",
     "grade": false,
     "grade_id": "cell-3ead098a7d2cf9c5",
     "locked": true,
     "schema_version": 3,
     "solution": false,
     "task": false
    }
   },
   "source": [
    "## Question 6 - Checksum Shortening\n",
    "\n",
    "In computing, a checksum is a simple but effective way to verify the integrity of transmitted data. A checksum is an analysis of data to an extent. If I send you 24 bits of data, it is likely you only need 16 of those bits to verify that the data came from me, meaning it takes less time to verify authenticity.\n",
    "\n",
    "Given a list of data and a checksum value, return true or false, based on whether the data matches the checksum value.  \n",
    "\n",
    "To compute the data from the checksum value, compute the sum of the list. Then convert the sum into a binary number. Compute the four least significant bits of the sum and return from the function whether or not these four bits match the checksum given as an argument.  \n",
    "\n",
    "This may be helpful, but you can complete this question without using these operators: https://wiki.python.org/moin/BitwiseOperators\n",
    "\n",
    "\n",
    "For those who are unaware, the 4 least significant bits are bits of a binary number furthest to the right.\n",
    "\n",
    "**For Example:**\n",
    "\n",
    "1. The number 34 in binary is `00100010`\n",
    "2. The 4 least significant bits are `0010`, which is the number two\n",
    "3. Therefore, the checksum of `34` is `2`, which is `0x2` in Hexadecimal."
   ]
  },
  {
   "cell_type": "code",
   "execution_count": 23,
   "metadata": {
    "deletable": false,
    "nbgrader": {
     "cell_type": "code",
     "checksum": "5b2f84aca4f2fcc370ab3c04ff727272",
     "grade": false,
     "grade_id": "cell-ce9ecc08bbfd23f0",
     "locked": false,
     "schema_version": 3,
     "solution": true
    }
   },
   "outputs": [],
   "source": [
    "def checksum (l, checksumValue) :\n",
    "    \n",
    "    return sum(l)%16 == checksumValue\n",
    "    # Works because the remainder after dividing by 16 is equivalent"
   ]
  },
  {
   "cell_type": "code",
   "execution_count": 24,
   "metadata": {
    "deletable": false,
    "editable": false,
    "nbgrader": {
     "cell_type": "code",
     "checksum": "74e93b0694be2ad42349c55cedade3d4",
     "grade": false,
     "grade_id": "cell-206cb5c8a1cdaf60",
     "locked": true,
     "schema_version": 3,
     "solution": false,
     "task": false
    }
   },
   "outputs": [
    {
     "name": "stdout",
     "output_type": "stream",
     "text": [
      "Are my sample test cases correct?\n",
      "Question 6 - Test Case #1: You Passed!\n",
      "Question 6 - Test Case #2: You Passed!\n",
      "Question 6 - Test Case #3: You Passed!\n"
     ]
    }
   ],
   "source": [
    "print(\"Are my sample test cases correct?\")\n",
    "print(\"Question 6 - Test Case #1:\", tester(checksum([152,627,925,857,821,122,625,334,675], 0x2), True))\n",
    "print(\"Question 6 - Test Case #2:\", tester(checksum([13,72,83,94,14,52,62,72,52,31,7,13,77,25], 0xB), True))\n",
    "print(\"Question 6 - Test Case #3:\", tester(checksum([92573974,18629742,57929859,19349291,39869296476], 0xE), True)) "
   ]
  },
  {
   "attachments": {},
   "cell_type": "markdown",
   "metadata": {
    "deletable": false,
    "editable": false,
    "nbgrader": {
     "cell_type": "markdown",
     "checksum": "26d39dcf27226687392a67d267d0d2d4",
     "grade": false,
     "grade_id": "cell-05f4d7275a5fe6f6",
     "locked": true,
     "schema_version": 3,
     "solution": false,
     "task": false
    }
   },
   "source": [
    "## Question 7 - Poké-Comp\n",
    "\n",
    "In the future of this course, a scary thing gets introduced: **The Object**. Now, there is no reason for you to be scared by this! And I designed this question to show you why. What we are going to do is called **\"Object Notation\"**. Basically, we are going to make an \"Object\", but not using any of the scary stuff.\n",
    "\n",
    "Now, I don't know about you, but I am a MASSIVE Pokémon fan. Specifically, my favourite Pokémon is Blaziken! If I wanted to have two Pokémon fight, it would be nice if the information was the exactly same between the two, wouldn't it?\n",
    "\n",
    "Now, Pokémon is a copyrighted term, so we are going to make Poké-Comp. Poké-Comps are competitive fighting computers, each having a `brand`, `name`, `ram`, `cpu`, and `status`. A Poké-Comp will pick a `program` (attack) to launch on his opponent's operating system, using up his RAM. Once all the RAM is used up, that Poké-Comp is recycled.\n",
    "\n",
    "Write a Python function, `fight` that takes in two Poké-Comps and a `program` integer. Poké-Comps are Dictionaries containing all of the Poké-Comp's information like so:\n",
    "\n",
    "```python\n",
    "Poké-Comp = {\n",
    "    \"name\": \"C-Pikach-U\",\n",
    "    \"ram\": 16,\n",
    "    \"brand\": \"Acer\",\n",
    "    \"cpu\": \"Intel\",\n",
    "    \"status\": \"running\"\n",
    "}\n",
    "```\n",
    "\n",
    "- If Poké-Comp A is \"recycled\", it cannot attack.\n",
    "- Poké-Comp A will be attacking Poké-Comp B for `program` damage. If Poké-Comp B's RAM drops to 0 or below, then change its `status` to `\"recycled\"`. \n",
    "    - Poké-Comp's cannot have negative RAM, so if it would be negative, just set it to 0.\n",
    "    \n",
    "Once you are done, simple reutrn a Tuple of the two Poké-Comps, `(pcA, pcB)`."
   ]
  },
  {
   "cell_type": "code",
   "execution_count": 25,
   "metadata": {
    "deletable": false,
    "nbgrader": {
     "cell_type": "code",
     "checksum": "aa7dda14e6d95a5aa268de350b84423c",
     "grade": false,
     "grade_id": "cell-29e48651e0fce086",
     "locked": false,
     "schema_version": 3,
     "solution": true,
     "task": false
    }
   },
   "outputs": [],
   "source": [
    "def pokeFight(pcA, pcB, program):\n",
    "    \n",
    "    if pcA[\"status\"] == \"recycled\":\n",
    "        \n",
    "        return (pcA, pcB)\n",
    "\n",
    "    \n",
    "    pcB_copy = pcB.copy()\n",
    "    \n",
    "    pcB_copy[\"ram\"] -= program\n",
    "    \n",
    "    if pcB_copy[\"ram\"] <= 0:\n",
    "        \n",
    "        pcB_copy[\"ram\"] = 0\n",
    "        pcB_copy[\"status\"] = \"recycled\"\n",
    "        \n",
    "    return (pcA, pcB_copy)\n"
   ]
  },
  {
   "cell_type": "code",
   "execution_count": 26,
   "metadata": {
    "deletable": false,
    "editable": false,
    "nbgrader": {
     "cell_type": "code",
     "checksum": "9883c372ad65aa9167f459f588130565",
     "grade": false,
     "grade_id": "cell-3b7a88a659520aae",
     "locked": true,
     "schema_version": 3,
     "solution": false,
     "task": false
    }
   },
   "outputs": [
    {
     "name": "stdout",
     "output_type": "stream",
     "text": [
      "Question 7 - Test Case #1: You Passed!\n",
      "Question 7 - Test Case #2: You Passed!\n"
     ]
    }
   ],
   "source": [
    "CPikachU = {\n",
    "    \"name\": \"C-Pikach-U\", \"ram\": 16,\n",
    "    \"brand\": \"Acer\", \"cpu\": \"Intel\",\n",
    "    \"status\": \"running\"\n",
    "}\n",
    "BlaziRAM = {\n",
    "    \"name\": \"Blazi-RAM\", \"ram\": 32,\n",
    "    \"brand\": \"Asus\", \"cpu\": \"Ryzen\",\n",
    "    \"status\": \"running\"\n",
    "}\n",
    "print(\"Question 7 - Test Case #1:\",\n",
    "    tester(pokeFight(BlaziRAM, CPikachU, 18), (BlaziRAM, {\n",
    "            \"name\": \"C-Pikach-U\", \"ram\": 0,\n",
    "            \"brand\": \"Acer\", \"cpu\": \"Intel\",\n",
    "            \"status\": \"recycled\"})))\n",
    "# Incase you mutate the original dictionaries (which is fine)\n",
    "CPikachU= {\n",
    "    \"name\": \"C-Pikach-U\", \"ram\": 16, \"brand\": \"Acer\", \"cpu\": \"Intel\", \"status\": \"running\"\n",
    "}\n",
    "BlaziRAM = {\n",
    "    \"name\": \"Blazi-RAM\", \"ram\": 32, \"brand\": \"Asus\", \"cpu\": \"Ryzen\", \"status\": \"running\"\n",
    "}\n",
    "print(\"Question 7 - Test Case #2:\",\n",
    "    tester(pokeFight(CPikachU, BlaziRAM, 18), (CPikachU, {\n",
    "            \"name\": \"Blazi-RAM\", \"ram\": 14,\n",
    "            \"brand\": \"Asus\", \"cpu\": \"Ryzen\",\n",
    "            \"status\": \"running\"})))"
   ]
  },
  {
   "attachments": {},
   "cell_type": "markdown",
   "metadata": {
    "deletable": false,
    "editable": false,
    "nbgrader": {
     "cell_type": "markdown",
     "checksum": "9638414dac8ccdd9251b15613b30482c",
     "grade": false,
     "grade_id": "cell-1734a67ef98698a5",
     "locked": true,
     "schema_version": 3,
     "solution": false,
     "task": false
    }
   },
   "source": [
    "## Bonus: 1337 h4x0r\n",
    "\n",
    "Write a function that translates an English sentence to leetspeak.\n",
    "\n",
    "<br>Hints: You will want to turn your sentence into a list of words, replace those, and then turn it back into a sentence before replacing letters. To turn a list of words into a sentence, you can use the syntax:\n",
    "<br>`new_sentence = \" \".join(old_list)`\n",
    "<br>This will join all the values in \"old list\" into a string, separated by spaces.\n",
    "<br>If you want to determine if a word is in your dictionary, use \"if word in dictionary.keys()\"\n",
    "\n",
    "You may assume that the sentences are, much like YouTube comments, devoid of any punctuation or capitalization.\n",
    "\n",
    "\n",
    "Use the following general algorithm:\n",
    "Replace the following words:<ul>\n",
    "<li>elite -> leet\n",
    "<li>the -> teh\n",
    "<li>hacker -> haxor\n",
    "<li>hack -> hax\n",
    "<li>own -> pwn\n",
    "<li>owned -> pwned\n",
    "<li>dude -> dood\n",
    "<li>rocks -> roxxorz\n",
    "<li>awesome -> awezome            \n",
    "<li>internet -> teh tubes\n",
    "<li>ever -> evarr\n",
    "<li>1md3 -> most awesome course ever\n",
    "</ul>\n",
    "<br>If any word ends with an 's', replace it with a 'z'\n",
    "\n",
    "Replace the following letters:<ul>\n",
    "<li>a -> \"@\"\n",
    "<li>e -> \"3\"\n",
    "<li>t -> \"7\"\n",
    "<li>l -> \"1\"\n",
    "<li>o -> \"0\"\n",
    "<li>s -> \"$\"\n",
    "</ul>\n",
    "\n",
    "Replace the words before replacing the letters, so that the replaced words will have the replaced letters."
   ]
  },
  {
   "cell_type": "code",
   "execution_count": 27,
   "metadata": {
    "deletable": false,
    "nbgrader": {
     "cell_type": "code",
     "checksum": "5470fc7e262d46953c12b19b1f787645",
     "grade": false,
     "grade_id": "cell-3cfdf97d4124c821",
     "locked": false,
     "schema_version": 3,
     "solution": true
    }
   },
   "outputs": [],
   "source": [
    "def leet(s):\n",
    "# 'Pri7h33 7@k3 3@rn3$7 3ff0r7 70 p1@c3 $uch w0rdz in $uffici3n7 3nvir0nz 70 3x3mp1ify 73h m0$7 @ff1u3n7 0f in73113c7u@1i7i3z' \n",
    "\n",
    "    replace_dict = {\n",
    "        \"elite\"   : \"leet\",\n",
    "        \"the\"     : \"teh\",\n",
    "        \"hacker\"  : \"haxor\",\n",
    "        \"hack\"    : \"hax\",\n",
    "        \"own\"     : \"pwn\",\n",
    "        \"dude\"    : \"dood\",\n",
    "        \"rocks\"   : \"roxxorz\",\n",
    "        \"awesome\" : \"awezome\",\n",
    "        \"internet\": \"teh tubes\",\n",
    "        \"ever\"    : \"evarr\",\n",
    "        \"1md3\"    : \"most awezome course evarr\",\n",
    "    }\n",
    "    \n",
    "    replace_char_dict = {\n",
    "        \"a\" : \"@\",\n",
    "        \"e\" : \"3\",\n",
    "        \"t\" : \"7\",\n",
    "        \"l\" : \"1\",\n",
    "        \"o\" : \"0\",\n",
    "        \"s\" : \"$\",\n",
    "    }\n",
    "\n",
    "    words = s.split()\n",
    "    \n",
    "    for i in range(len(words)):\n",
    "        \n",
    "        # Replace word if necessary\n",
    "        if words[i] in replace_dict:\n",
    "            \n",
    "            words[i] = replace_dict[words[i]]\n",
    "    \n",
    "    \n",
    "        # Replace ending s if necessary\n",
    "        if words[i].endswith(\"s\"):\n",
    "            \n",
    "            words[i] = words[i][:-1] + \"z\"\n",
    "        \n",
    "        \n",
    "        # Replace word with leetcode varient of word using character translation\n",
    "        chars = [*words[i]]\n",
    "        \n",
    "        for j in range(len(chars)):\n",
    "            \n",
    "            if chars[j] in replace_char_dict:\n",
    "                \n",
    "                chars[j] = replace_char_dict[chars[j]]\n",
    "                \n",
    "        words[i] = \"\".join(chars)\n",
    "            \n",
    "            \n",
    "\n",
    "    return \" \".join(words)"
   ]
  },
  {
   "cell_type": "code",
   "execution_count": 28,
   "metadata": {
    "deletable": false,
    "editable": false,
    "nbgrader": {
     "cell_type": "code",
     "checksum": "709e1fc40bead571ad9cfee4088c7d34",
     "grade": false,
     "grade_id": "cell-101da9f5a5f2dfa4",
     "locked": true,
     "schema_version": 3,
     "solution": false,
     "task": false
    }
   },
   "outputs": [
    {
     "name": "stdout",
     "output_type": "stream",
     "text": [
      "How'd I do?!\n",
      "Bonus - Test Case #1 You Passed!\n",
      "Bonus - Test Case #2 You Passed!\n",
      "Bonus - Test Case #3 You Passed!\n",
      "Bonus - Test Case #4 You Passed!\n"
     ]
    }
   ],
   "source": [
    "print(\"How'd I do?!\")\n",
    "print(\"Bonus - Test Case #1\", tester(leet(\"I'm very well acquainted too with matters mathematical\"), \"I'm v3ry w311 @cqu@in73d 700 wi7h m@773rz m@7h3m@7ic@1\"))\n",
    "print(\"Bonus - Test Case #2\", tester(leet(\"I understand equations both the simple and quadratical\"), \"I und3r$7@nd 3qu@7i0nz b07h 73h $imp13 @nd qu@dr@7ic@1\"))\n",
    "print(\"Bonus - Test Case #3\", tester(leet(\"About binomial theorem I'm teeming with a lot of news\"), \"Ab0u7 bin0mi@1 7h30r3m I'm 733ming wi7h @ 107 0f n3wz\"))\n",
    "print(\"Bonus - Test Case #4\", tester(leet(\"With many cheerful facts about the square of the hypotenuse!\"), \"Wi7h m@ny ch33rfu1 f@c7z @b0u7 73h $qu@r3 0f 73h hyp073nu$3!\"))"
   ]
  }
 ],
 "metadata": {
  "kernelspec": {
   "display_name": "Python 3",
   "language": "python",
   "name": "python3"
  },
  "language_info": {
   "codemirror_mode": {
    "name": "ipython",
    "version": 3
   },
   "file_extension": ".py",
   "mimetype": "text/x-python",
   "name": "python",
   "nbconvert_exporter": "python",
   "pygments_lexer": "ipython3",
   "version": "3.10.5 (tags/v3.10.5:f377153, Jun  6 2022, 16:14:13) [MSC v.1929 64 bit (AMD64)]"
  },
  "vscode": {
   "interpreter": {
    "hash": "369f2c481f4da34e4445cda3fffd2e751bd1c4d706f27375911949ba6bb62e1c"
   }
  }
 },
 "nbformat": 4,
 "nbformat_minor": 1
}
