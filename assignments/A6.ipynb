{
 "cells": [
  {
   "attachments": {},
   "cell_type": "markdown",
   "metadata": {
    "deletable": false,
    "editable": false,
    "nbgrader": {
     "cell_type": "markdown",
     "checksum": "7158b473b8ca98a09a7a9b2043db6e5f",
     "grade": false,
     "grade_id": "cell-8270991a73638fc0",
     "locked": true,
     "schema_version": 3,
     "solution": false
    }
   },
   "source": [
    "# Assignment 6\n",
    "## Opinions Based in Numerical Fact!\n",
    "\n",
    "The purpose of this lab is to:\n",
    "- Practice implementing numerical methods\n",
    "- Save us from any future embarassment with aliens\n",
    "- Teach students not to rely on built in functions"
   ]
  },
  {
   "cell_type": "code",
   "execution_count": 1,
   "metadata": {
    "deletable": false,
    "editable": false,
    "nbgrader": {
     "cell_type": "code",
     "checksum": "2298de1e2873e4639644ff4119ced48d",
     "grade": false,
     "grade_id": "cell-d14c3fdf07723b26",
     "locked": true,
     "schema_version": 3,
     "solution": false,
     "task": false
    }
   },
   "outputs": [],
   "source": [
    "def tester(a, b):\n",
    "    \"\"\"\n",
    "    I am the function that tells you if you pass or fail tests.\n",
    "    Run me, please.\n",
    "    \"\"\"\n",
    "    return \"You Passed!\" if a == b else \"You Failed!\""
   ]
  },
  {
   "attachments": {},
   "cell_type": "markdown",
   "metadata": {
    "deletable": false,
    "editable": false,
    "nbgrader": {
     "cell_type": "markdown",
     "checksum": "175a995c96345744650a645e289be1d0",
     "grade": false,
     "grade_id": "cell-71a0b5befc6ac718",
     "locked": true,
     "schema_version": 3,
     "solution": false
    }
   },
   "source": [
    "## Question 1: Binary and Decimal Conversions\n",
    "\n",
    "Write two functions, `dec2bin(x)` and `bin2dec(x)` that convert a positive integer from decimal to binary or binary to decimal respectively.  For `dec2bin`, the input `x` is an int, and the output should be a string.  For `bin2dec`, the input `x` is a string, and the output should be an int. \n",
    "\n",
    "The iterative approach is easiest.  If you are feeling adventurous, you could try to come up with a recursive solution.\n",
    "\n",
    "__Prohibited Functions__: You may not use `bin()`, `int()`, `.format()`, or other built-in conversion functions. Write it out by hand or lose the marks."
   ]
  },
  {
   "cell_type": "code",
   "execution_count": 2,
   "metadata": {
    "deletable": false,
    "nbgrader": {
     "cell_type": "code",
     "checksum": "fcddec3a68f6b3e88f5713c4f20512d4",
     "grade": false,
     "grade_id": "cell-9b4bf2416a059320",
     "locked": false,
     "schema_version": 3,
     "solution": true
    }
   },
   "outputs": [],
   "source": [
    "def dec2bin(x):\n",
    "    return convert(x, 2, conv=False)\n",
    "\n",
    "def bin2dec(x):\n",
    "    return convert(x, 10, 2)\n",
    "\n",
    "\n",
    "# Big ol' convert function I guess\n",
    "def convert(x, new_base, original_base=10, prefix=\"\", conv=True):\n",
    "\n",
    "    values = \"0123456789ABCDEFGHIJKLMNOPQRSTUVWXYZ\"\n",
    "    value_dict = {values[i]: i for i in range_len(values)}\n",
    "\n",
    "    # Converts from original base to numeric value\n",
    "    accu = 0\n",
    "\n",
    "    if conv: # Only do conversion if needed\n",
    "        rev = x[::-1]\n",
    "\n",
    "        for i in range_len(rev):\n",
    "            accu += value_dict[rev[i]] * (original_base**i)\n",
    "\n",
    "    else:\n",
    "        accu = x\n",
    "\n",
    "    if new_base == 10: # If new base is 10, just return this value\n",
    "\n",
    "        return accu\n",
    "    \n",
    "    key_dict = {i: values[i] for i in range_len(values)} # Swaps keys and values for new dictionary\n",
    "\n",
    "    # Converts numeric value to string of new base\n",
    "\n",
    "    i = 0\n",
    "    rem = accu\n",
    "    str_val = \"\" if rem > 0 else \"0\"\n",
    "    while rem > 0:\n",
    "\n",
    "        str_val = key_dict[rem % new_base] + str_val\n",
    "\n",
    "        place = new_base ** i\n",
    "        rem = rem // new_base\n",
    "\n",
    "        i += 1\n",
    "\n",
    "    return prefix + str_val\n",
    "\n",
    "def range_len(stri):\n",
    "\n",
    "    count = []\n",
    "    i = 0\n",
    "\n",
    "    for letter in stri:\n",
    "\n",
    "        count.append(i)\n",
    "        i += 1\n",
    "\n",
    "    return count"
   ]
  },
  {
   "cell_type": "code",
   "execution_count": 3,
   "metadata": {
    "deletable": false,
    "editable": false,
    "nbgrader": {
     "cell_type": "code",
     "checksum": "5d9474c6e5780b88d69a0f23cdbfc43d",
     "grade": false,
     "grade_id": "cell-5febb9133114de62",
     "locked": true,
     "schema_version": 3,
     "solution": false,
     "task": false
    }
   },
   "outputs": [
    {
     "name": "stdout",
     "output_type": "stream",
     "text": [
      "Question #1a Test Case #1: You Passed!\n",
      "Question #1a Test Case #2: You Passed!\n",
      "Question #1a Test Case #3: You Passed!\n",
      "Question #1a Test Case #4: You Passed!\n",
      "Question #1a Test Case #5: You Passed!\n",
      "Question #1a Test Case #6: You Passed!\n"
     ]
    }
   ],
   "source": [
    "print(\"Question #1a Test Case #1:\", tester(dec2bin(0), '0'))\n",
    "print(\"Question #1a Test Case #2:\", tester(dec2bin(15), '1111'))\n",
    "print(\"Question #1a Test Case #3:\", tester(dec2bin(999999999), '111011100110101100100111111111'))\n",
    "print(\"Question #1a Test Case #4:\", tester(bin2dec(''), 0))\n",
    "print(\"Question #1a Test Case #5:\", tester(bin2dec('10010101'), 149))\n",
    "print(\"Question #1a Test Case #6:\", tester(bin2dec('0101010101100011011010011101011001010010110101'), 23471366444213))"
   ]
  },
  {
   "attachments": {},
   "cell_type": "markdown",
   "metadata": {
    "deletable": false,
    "editable": false,
    "nbgrader": {
     "cell_type": "markdown",
     "checksum": "66f7c17fea77bbb523248e75417fe844",
     "grade": false,
     "grade_id": "cell-242c7365c30a27b9",
     "locked": true,
     "schema_version": 3,
     "solution": false
    }
   },
   "source": [
    "## Question 1b: Decimal/Hexadecimal Conversions\n",
    "\n",
    "Write two functions: one that converts from hexadecimal (base 16) to decimal, `hex2dec`, and one that converts from decimal to hexadecimal, `dec2hex`. Output your hexadecimal values as a string; for instance, `31` in decimal would be the string \"1F\" in hexadecimal. However, we aren't done... I want you to put the letter \"H\" infront of your answer so I can see that it is a Hexidecimal Value! \n",
    "Your output is case sensitive.\n",
    "\n",
    "__Prohibited Functions__: You may not use `hex()`, `int()`, `.format()`, or other built-in conversion functions."
   ]
  },
  {
   "cell_type": "code",
   "execution_count": 4,
   "metadata": {
    "deletable": false,
    "nbgrader": {
     "cell_type": "code",
     "checksum": "7e4fe9189a0e3b82f9f23f3a7abe4d45",
     "grade": false,
     "grade_id": "cell-ffec72cc583c9c6c",
     "locked": false,
     "schema_version": 3,
     "solution": true
    }
   },
   "outputs": [],
   "source": [
    "def hex2dec(n):\n",
    "    return convert(n, 10, 16)\n",
    "\n",
    "def dec2hex(n):\n",
    "    return convert(n, 16, 10, \"H\", False)\n"
   ]
  },
  {
   "cell_type": "code",
   "execution_count": 5,
   "metadata": {
    "deletable": false,
    "editable": false,
    "nbgrader": {
     "cell_type": "code",
     "checksum": "3ca29bd333c69c51bb580b7377b5e04f",
     "grade": false,
     "grade_id": "cell-0149e475f1d273b1",
     "locked": true,
     "schema_version": 3,
     "solution": false,
     "task": false
    }
   },
   "outputs": [
    {
     "name": "stdout",
     "output_type": "stream",
     "text": [
      "Question #1b Test Case #1: You Passed!\n",
      "Question #1b Test Case #2: You Passed!\n",
      "Question #1b Test Case #3: You Passed!\n",
      "Question #1b Test Case #4: You Passed!\n"
     ]
    }
   ],
   "source": [
    "WASTE_OF_WATER = \"HDECAF\"\n",
    "DIVINE_NUMBER = 12648430\n",
    "print(\"Question #1b Test Case #1:\", tester(dec2hex(31), \"H1F\"))\n",
    "print(\"Question #1b Test Case #2:\", tester(dec2hex(912559), WASTE_OF_WATER))\n",
    "print(\"Question #1b Test Case #3:\", tester(hex2dec('2A'), 42))\n",
    "print(\"Question #1b Test Case #4:\", tester(hex2dec('C0FFEE'), DIVINE_NUMBER))"
   ]
  },
  {
   "attachments": {},
   "cell_type": "markdown",
   "metadata": {
    "deletable": false,
    "editable": false,
    "nbgrader": {
     "cell_type": "markdown",
     "checksum": "d7348adef876b278c31ecd6c9b62b852",
     "grade": false,
     "grade_id": "cell-db44d5cf14cdb0c8",
     "locked": true,
     "schema_version": 3,
     "solution": false,
     "task": false
    }
   },
   "source": [
    "## Question 1c - Decimal/Octal Conversions\n",
    "\n",
    "Write two functions: one that converts from octal (base 8) to decimal, `oct2dec`, and one that converts from decimal to octal, `dec2oct`. Output your octal values as a string; for instance, `25` in decimal would be the string \"31\" in octal. Same rules as Hexidemical, we need you to put the letter \"O\" infront of your Octal values.\n",
    "Your output is case sensitive.\n",
    "\n",
    "You will notice, `oct` contains no letters, just numbers \"01234567\". That means an `oct` number can be written as an integer. **You will need to write a function that converts a number to a string, since `oct` can be written using integers only.** \n",
    "\n",
    "__Prohibited Functions__: You may not use `oct()`, `int()`, `.format()`, or other built-in conversion functions, but you may now use `str`. Nothing other than `str()` however. "
   ]
  },
  {
   "cell_type": "code",
   "execution_count": 6,
   "metadata": {
    "deletable": false,
    "nbgrader": {
     "cell_type": "code",
     "checksum": "9d3d358a196340983076c78bce05f320",
     "grade": false,
     "grade_id": "cell-671699a8cefdcd55",
     "locked": false,
     "schema_version": 3,
     "solution": true
    }
   },
   "outputs": [],
   "source": [
    "def oct2dec(n):\n",
    "    return convert(str(n), 10, 8)\n",
    "\n",
    "def dec2oct(n):\n",
    "    return convert(n, 8, 10, prefix=\"O\", conv=False)\n"
   ]
  },
  {
   "cell_type": "code",
   "execution_count": 7,
   "metadata": {
    "deletable": false,
    "editable": false,
    "nbgrader": {
     "cell_type": "code",
     "checksum": "4b1876bf45dc9dff9ffcd9dad0d8a62b",
     "grade": false,
     "grade_id": "cell-2ddb9653790fb836",
     "locked": true,
     "schema_version": 3,
     "solution": false,
     "task": false
    }
   },
   "outputs": [
    {
     "name": "stdout",
     "output_type": "stream",
     "text": [
      "Question #1c Test Case #1: You Passed!\n",
      "Question #1c Test Case #2: You Passed!\n",
      "Question #1c Test Case #3: You Passed!\n",
      "Question #1c Test Case #4: You Passed!\n"
     ]
    }
   ],
   "source": [
    "print(\"Question #1c Test Case #1:\", tester(oct2dec(15253), 6827))\n",
    "print(\"Question #1c Test Case #2:\", tester(oct2dec(16), 14))\n",
    "print(\"Question #1c Test Case #3:\", tester(dec2oct(999), \"O1747\"))\n",
    "print(\"Question #1c Test Case #4:\", tester(dec2oct(8), \"O10\"))"
   ]
  },
  {
   "attachments": {},
   "cell_type": "markdown",
   "metadata": {
    "deletable": false,
    "editable": false,
    "nbgrader": {
     "cell_type": "markdown",
     "checksum": "40438e5cbedd73dac7bc763596a09745",
     "grade": false,
     "grade_id": "cell-e61fa62ec99eec01",
     "locked": true,
     "schema_version": 3,
     "solution": false
    }
   },
   "source": [
    "## Question 2 - Alien Palindromes\n",
    "\n",
    "It's an exciting time to be alive. Aliens have made first contact with humans--or so they thought. Unfortunately, their first encounter with our species was with \"Starman\", the most recent endeavour in Elon Musk's desperate attempt to return home to Mars. Needless to say, they failed all attempts at communication with the inanimate spacesuit. Naturally, Ol' Musky was quite disappointed.\n",
    "\n",
    "Top scientists have hypothesized that our failure to communicate with the aliens was because, well, they simply had too many fingers. On earth, we use a base 10 number system because humans have, on average, 10 fingers. In order to display our intelligence in any future encounters with extraterrestrial life, we want to show them that we respect however many fingers they have, and the number system they use as a consequence.\n",
    "\n",
    "Your task is to write a program that finds numbers that would be considered 'interesting' in both of our number systems--namely, palindromes. For instance, 1991 is 7C7 in hexadecimal, and both numbers are palindromes. Of course, we don't know how many fingers the aliens will have, but Elon assures us that it will be no more than 36. This is convenient because we can just use `0123456789ABCDEFGHIJKLMNOPQRSTUVWXYZ` to represent our numbers.\n",
    "\n",
    "Write a function, `alien(b, N)` that finds all numbers up to, and including, `N` that are palindromes in both base 10 and base `b`. Exclude any one digit numbers in either base--obviously, 1 is 1 in both decimal and any other number system. Providing the aliens with such trivial solutions will most likely anger them, and result in the complete annihilation of humanity.\n",
    "\n",
    "Your function should return all palindromic numbers in both decimal and the alien system as a list of tuples: [(decimal1, alien1), (decimal2, alien2)... etc] in increasing order.\n",
    "\n",
    "**For this question, you are free to use any functions you wish.** (But you really shouldn't need any by now except maybe `str()` for convenience!)"
   ]
  },
  {
   "cell_type": "code",
   "execution_count": 8,
   "metadata": {
    "deletable": false,
    "nbgrader": {
     "cell_type": "code",
     "checksum": "d3d644dcb632f08143adfc8bab8347b5",
     "grade": false,
     "grade_id": "cell-77063b4697eac250",
     "locked": false,
     "schema_version": 3,
     "solution": true
    }
   },
   "outputs": [],
   "source": [
    "def alien(b, N):\n",
    "\n",
    "    vals = []\n",
    "\n",
    "    for i in range(b+1, N+1):\n",
    "\n",
    "        dec = str(i)\n",
    "\n",
    "        if dec == dec[::-1]:\n",
    "\n",
    "            ali = convert(i, b, conv=False)\n",
    "\n",
    "            if ali == ali[::-1]:\n",
    "\n",
    "                if len(dec) >= 2: # Only check because ali will always be 2 or more items.\n",
    "\n",
    "                    vals.append((int(dec), ali))\n",
    "\n",
    "    print(vals)\n",
    "    return vals\n",
    "\n"
   ]
  },
  {
   "cell_type": "code",
   "execution_count": 9,
   "metadata": {
    "deletable": false,
    "editable": false,
    "nbgrader": {
     "cell_type": "code",
     "checksum": "3125adecb4054008213a6e7bcc65b662",
     "grade": false,
     "grade_id": "cell-5cdd6293c5ebc281",
     "locked": true,
     "schema_version": 3,
     "solution": false,
     "task": false
    }
   },
   "outputs": [
    {
     "name": "stdout",
     "output_type": "stream",
     "text": [
      "[(353, '161'), (626, '272'), (787, '313'), (979, '3D3')]\n",
      "Question #2 - Test Case #1: You Passed!\n",
      "[(121, '232'), (171, '333'), (242, '464'), (292, '565')]\n",
      "Question #2 - Test Case #2: You Passed!\n",
      "[(929, '131'), (1771, '232'), (19191, 'MNM')]\n",
      "Question #2 - Test Case #3: You Passed!\n"
     ]
    }
   ],
   "source": [
    "print(\"Question #2 - Test Case #1:\", tester(alien(16, 1000), [(353, '161'), (626, '272'), (787, '313'), (979, '3D3')]))\n",
    "print(\"Question #2 - Test Case #2:\", tester(alien(7, 1000), [(121, '232'), (171, '333'), (242, '464'), (292, '565')]))\n",
    "print(\"Question #2 - Test Case #3:\", tester(alien(29, 100000), [(929, '131'), (1771, '232'), (19191, 'MNM')]))"
   ]
  },
  {
   "attachments": {},
   "cell_type": "markdown",
   "metadata": {
    "deletable": false,
    "editable": false,
    "nbgrader": {
     "cell_type": "markdown",
     "checksum": "c5a0df0b365e24d32818b6ae672f3d25",
     "grade": false,
     "grade_id": "cell-cf9a1aa54077a851",
     "locked": true,
     "schema_version": 3,
     "solution": false,
     "task": false
    }
   },
   "source": [
    "## Question 3 - Set Theory without Sets!\n",
    "\n",
    "Sets are a great tool in many situations, but coders often get too comfortable with lists and forget they exist! So, to show you guys the patterns where a set might be useful, you are going to code the set operations without the use of the `set()` function. \n",
    "\n",
    "Write Python functions the replicate the behaviours of the following `set` operations using `list` types!\n",
    "\n",
    "- `add(a: Set[T], b: T) -> Set[T]`: Adds an element of type T into a list containing items of type T. Since Python ignores typing, you may assume that element `b` is the same type as everything in `a`; Simply add the element `b` to the list `a`. Assume that the items a\n",
    "- `delete(a: Set[T], b: T) -> Set[T]`: Remove the item from the list if you can find it, and return the new list without said item.\n",
    "- `minus(a: Set[T], b: Set[T]) -> Set[T]`: This function calls delete on `a` for every item within `b`.\n",
    "- `intersect(a: Set[T], b: Set[T]) -> Set[T]`: Return a list containing only the elements that appear in BOTH sets.\n",
    "- `union(a: Set[T], b: Set[T]) -> Set[T]`: Return a list containing the elements that appear in `a` OR `b`. \n",
    "\n",
    "Notes and Warnings:\n",
    "\n",
    "- But be careful! Sets don't contain duplicates, so your lists shouldn't either!\n",
    "- For all questions, you may assume that all elements are the same type.\n",
    "- Remember, if you use `set()`, you get an automatic 0 for this question."
   ]
  },
  {
   "cell_type": "code",
   "execution_count": 10,
   "metadata": {
    "deletable": false,
    "nbgrader": {
     "cell_type": "code",
     "checksum": "a2a9c9bf274dbbf5306ae09fb5778081",
     "grade": false,
     "grade_id": "cell-5e64dfc916a4b9cb",
     "locked": false,
     "schema_version": 3,
     "solution": true,
     "task": false
    }
   },
   "outputs": [],
   "source": [
    "def add(a, b):\n",
    "    elems = a.copy()\n",
    "\n",
    "    if b not in elems:\n",
    "        elems.append(b)\n",
    "\n",
    "    return elems\n",
    "\n",
    "def delete(a, b):\n",
    "    elems = a.copy()\n",
    "\n",
    "    if b in elems:\n",
    "        elems.remove(b)\n",
    "\n",
    "    return elems\n",
    "\n",
    "def minus(a, b):\n",
    "    elems = a.copy()\n",
    "\n",
    "    for each in b:\n",
    "        elems = delete(elems, each)\n",
    "\n",
    "    return elems\n",
    "\n",
    "def intersect(a, b):\n",
    "    elems = []\n",
    "\n",
    "    for each in a:\n",
    "        if each in a and each in b:\n",
    "            elems = add(elems, each)\n",
    "\n",
    "    return elems\n",
    "\n",
    "def union(a, b):\n",
    "    elems = a.copy()\n",
    "\n",
    "    for each in b:\n",
    "        elems = add(elems, each)\n",
    "\n",
    "    return elems\n",
    "\n"
   ]
  },
  {
   "cell_type": "code",
   "execution_count": 11,
   "metadata": {
    "deletable": false,
    "editable": false,
    "nbgrader": {
     "cell_type": "code",
     "checksum": "0068577aa5bd4a25bb05f5f11fd68c36",
     "grade": false,
     "grade_id": "cell-8bf023bd9583d8d9",
     "locked": true,
     "schema_version": 3,
     "solution": false,
     "task": false
    }
   },
   "outputs": [
    {
     "name": "stdout",
     "output_type": "stream",
     "text": [
      "Question #3 - Test Case #1: You Passed!\n",
      "Question #3 - Test Case #2: You Passed!\n",
      "Question #3 - Test Case #3: You Passed!\n",
      "Question #3 - Test Case #4: You Passed!\n",
      "Question #3 - Test Case #5: You Passed!\n"
     ]
    }
   ],
   "source": [
    "s = set({1, 2, 3})\n",
    "s.add(5)\n",
    "print(\"Question #3 - Test Case #1:\", \n",
    "    tester(\n",
    "        sorted(add([1, 2, 3], 5)), \n",
    "        sorted(list(s))\n",
    "    )\n",
    ")\n",
    "s &= set({1, 3})\n",
    "print(\"Question #3 - Test Case #2:\", \n",
    "    tester(\n",
    "        sorted(delete([1, 2, 3], 2)), \n",
    "        sorted(list(s))\n",
    "    )\n",
    ")\n",
    "print(\"Question #3 - Test Case #3:\", \n",
    "    tester(\n",
    "        sorted(minus([1, 2, 3], [2, 3])), \n",
    "        sorted(list(set({1, 2, 3}) - set({2, 3})))\n",
    "    )\n",
    ")\n",
    "print(\"Question #3 - Test Case #4:\", \n",
    "    tester(\n",
    "        sorted(intersect([1, 2, 3], [2])), \n",
    "        sorted(list(set({1, 2, 3}) & set({2})))\n",
    "    )\n",
    ")\n",
    "print(\"Question #3 - Test Case #5:\", \n",
    "    tester(\n",
    "        sorted(union([1, 2, 3], [4, 5, 6])), \n",
    "        sorted(list(set({1, 2, 3}) | set({4, 5, 6})))\n",
    "    )\n",
    ")"
   ]
  },
  {
   "attachments": {},
   "cell_type": "markdown",
   "metadata": {
    "deletable": false,
    "editable": false,
    "nbgrader": {
     "cell_type": "markdown",
     "checksum": "da5632b80e69527e09f364ea169543d0",
     "grade": false,
     "grade_id": "cell-5d325e19c5598a13",
     "locked": true,
     "schema_version": 3,
     "solution": false,
     "task": false
    }
   },
   "source": [
    "## Bonus Question - Gray Codes\n",
    "\n",
    "Consider following Python function for enumerating all binary numbers with a given width. For example, as `0`, `1` are the binary numbers with one digit, those with two digits are formed by prepending `0` to those numbers, `00`, `01`, and the prepending `1` to those numbers `10`, `11`, resulting in `00`, `01`, `10`, `11`. Those with three digits are formed by prepending `0` again, `000`, `001`, `010`, `011`, and then prepending `1` as well, `100`, `101`, `110`, `111`.\n",
    "\n",
    "The Binary Numbers function below will give you an idea of what we are expecting. It generates all possible binary numbers up to the width providided. Base your solution on it."
   ]
  },
  {
   "cell_type": "code",
   "execution_count": 12,
   "metadata": {
    "deletable": false,
    "editable": false,
    "nbgrader": {
     "cell_type": "code",
     "checksum": "3c0adedf450759ca344d61fe88dc5d7f",
     "grade": false,
     "grade_id": "cell-460de8ac3bd5ab9a",
     "locked": true,
     "schema_version": 3,
     "solution": false,
     "task": false
    }
   },
   "outputs": [],
   "source": [
    "def binaryNumbers(width):\n",
    "    return [''] if width == 0 else \\\n",
    "           ['0' + x for x in binaryNumbers(width - 1)] + \\\n",
    "           ['1' + x for x in binaryNumbers(width - 1)]"
   ]
  },
  {
   "cell_type": "markdown",
   "metadata": {
    "deletable": false,
    "editable": false,
    "nbgrader": {
     "cell_type": "markdown",
     "checksum": "32bcb65c3516667dbf610f24e02d1bc9",
     "grade": false,
     "grade_id": "cell-974a6b0b4f4c6ce5",
     "locked": true,
     "schema_version": 3,
     "solution": false,
     "task": false
    }
   },
   "source": [
    "| Width | Binary Code | Gray Code |\n",
    "|-------|-------------|-----------|\n",
    "|     1 |           0 |         0 |\n",
    "|       |           1 |         1 |\n",
    "|     2 |          00 |        00 |\n",
    "|       |          01 |        00 |\n",
    "|       |          10 |        11 |\n",
    "|       |          11 |        00 |\n",
    "|     3 |         000 |       000 |\n",
    "|       |         001 |       001 |\n",
    "|       |         010 |       011 |\n",
    "|       |         011 |       010 |\n",
    "|       |         100 |       110 |\n",
    "|       |         101 |       111 |\n",
    "|       |         110 |       101 |\n",
    "|       |         111 |       100 |\n",
    "\n",
    "The Gray code is a binary code that has the property that any two consecutive numbers differ only by one bit. The Gray code has several applications, for example in digital TV transmissions. \n",
    "\n",
    "It is constructed similarly to binary numbers, but with reversal when prepending `1`: \n",
    "\n",
    "- For example, given `[\"0\", \"1\"]`, the Gray code is formed by prepending `\"0\"` to those numbers to get `[\"00\", \"01\"]`, and then prepending `\"1\"` after reversing those numbers to get `[\"11\", \"10\"]`, resulting in `[\"00\", \"01\", \"11\", \"10\"]`. \n",
    "- The Gray code with three digits is formed by prepending `\"0\"` again, `[\"000\", \"001\", \"011\", \"010\"]`, and the prepending `\"1\"` after reversing the numbers, `[\"110\", \"111\", \"101\", \"100\"]`. \n",
    "    \n",
    "Write a Python function `grayCode(width)` that returns a list with the Gray codes of the given width.\n",
    "\n",
    "For this one, you'll have to design your own test cases! "
   ]
  },
  {
   "cell_type": "code",
   "execution_count": 13,
   "metadata": {
    "deletable": false,
    "nbgrader": {
     "cell_type": "code",
     "checksum": "d6bf80ec796e1a624c90c453eb6530d9",
     "grade": false,
     "grade_id": "cell-f10433d4db0559ed",
     "locked": false,
     "schema_version": 3,
     "solution": true
    }
   },
   "outputs": [],
   "source": [
    "## Your code here! \n",
    "def grayCode(width):\n",
    "\n",
    "    \n",
    "\n",
    "    if width == 0:\n",
    "        return [''] \n",
    "    else:\n",
    "        prev = grayCode(width-1)\n",
    "        return ['0' + x for x in prev] + ['1' + x for x in prev[::-1]]"
   ]
  }
 ],
 "metadata": {
  "kernelspec": {
   "display_name": "Python 3 (ipykernel)",
   "language": "python",
   "name": "python3"
  },
  "language_info": {
   "codemirror_mode": {
    "name": "ipython",
    "version": 3
   },
   "file_extension": ".py",
   "mimetype": "text/x-python",
   "name": "python",
   "nbconvert_exporter": "python",
   "pygments_lexer": "ipython3",
   "version": "3.9.12"
  },
  "vscode": {
   "interpreter": {
    "hash": "a9161a241a5e1e0ef70644121ab1a15f4bde46181cd0f1f7bae77e5a731997fd"
   }
  }
 },
 "nbformat": 4,
 "nbformat_minor": 2
}
